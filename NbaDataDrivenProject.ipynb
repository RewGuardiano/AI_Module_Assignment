{
  "cells": [
    {
      "cell_type": "markdown",
      "metadata": {
        "id": "view-in-github",
        "colab_type": "text"
      },
      "source": [
        "<a href=\"https://colab.research.google.com/github/RewGuardiano/AI_Module_Assignment/blob/main/NbaDataDrivenProject.ipynb\" target=\"_parent\"><img src=\"https://colab.research.google.com/assets/colab-badge.svg\" alt=\"Open In Colab\"/></a>"
      ]
    },
    {
      "cell_type": "markdown",
      "source": [
        "## **Allocation of marks**\n",
        "\n",
        "Stages 1,2,3   Total 30%\n",
        "\n",
        "Ideally your dataset will not need a lot of work. Marks going for the choosing,  training, evaluation and refining of model primarily\n",
        "\n",
        "\n",
        "\n",
        "\n",
        "---\n",
        "\n",
        "\n",
        "\n",
        "Stage 4,5       Total 60%\n",
        "\n",
        "Choose your model\n",
        "\n",
        "https://scikit-learn.org/stable/tutorial/machine_learning_map/index.html\n",
        "\n",
        "\n",
        "Train and evaluate your model. Refine the model or choose another estimator or approach?\n",
        "\n",
        "Do not overwrite cells and add commentry between iterations.\n",
        "\n",
        "\n",
        "\n",
        "---\n",
        "\n",
        "\n",
        "\n",
        "\n",
        "Stage 6         Total 10%"
      ],
      "metadata": {
        "id": "sgQZcH7afs47"
      }
    },
    {
      "cell_type": "markdown",
      "source": [
        "# **Stage 1**\n",
        "***Describe Data***\n",
        "\n",
        "A brief description of the data, where you sourced it, headers of the data. Summary statistics, charts etc...\n",
        "\n",
        "If you using data from different sources how you might link them."
      ],
      "metadata": {
        "id": "9f8rIb1E6dQS"
      }
    },
    {
      "cell_type": "markdown",
      "source": [
        "# **Introduction: **\n",
        "By combining real-time statistics from Basketball-Reference with historical game data from Kaggle, this project seeks to project the final win-loss records for NBA teams. By connecting these datasets, we will examine patterns in team performance and use a machine-learning model to make predictions for the rest of the season.\n",
        "\n",
        "Dataset 1:\n",
        "NBA team statistics from the past (many seasons)\n",
        "Basketball Reference is the source.\n",
        "\n",
        "https://www.kaggle.com/datasets/nathanlauga/nba-games/data includes Past win-loss records, points scored, opponent points, home/away performance\n",
        "This will form the historical training data.\n",
        "\n",
        "Dataset 2:\n",
        "\n",
        "URL: https://www.basketball-reference.com/leagues/NBA_2025.html Current Season Team Statistics\n",
        "includes team standings,performance measures for the current season and advanced metrics like offensive/defensive ratings,net rating, efficiency ratings.\n",
        "This will give the current season data to allow us on making predictions.\n",
        "\n"
      ],
      "metadata": {
        "id": "mSDq0zSiqmFL"
      }
    },
    {
      "cell_type": "markdown",
      "source": [],
      "metadata": {
        "id": "2p8TTMoRHmox"
      }
    },
    {
      "cell_type": "code",
      "source": [
        "from google.colab import files\n",
        "uploaded = files.upload()\n"
      ],
      "metadata": {
        "id": "uY1dExPehLAq",
        "colab": {
          "base_uri": "https://localhost:8080/",
          "height": 73
        },
        "outputId": "2f605e6a-6d4d-4859-9d6f-931663129ba4"
      },
      "execution_count": 11,
      "outputs": [
        {
          "output_type": "display_data",
          "data": {
            "text/plain": [
              "<IPython.core.display.HTML object>"
            ],
            "text/html": [
              "\n",
              "     <input type=\"file\" id=\"files-ea69c2dd-8a53-4383-9cfa-a4613d929da0\" name=\"files[]\" multiple disabled\n",
              "        style=\"border:none\" />\n",
              "     <output id=\"result-ea69c2dd-8a53-4383-9cfa-a4613d929da0\">\n",
              "      Upload widget is only available when the cell has been executed in the\n",
              "      current browser session. Please rerun this cell to enable.\n",
              "      </output>\n",
              "      <script>// Copyright 2017 Google LLC\n",
              "//\n",
              "// Licensed under the Apache License, Version 2.0 (the \"License\");\n",
              "// you may not use this file except in compliance with the License.\n",
              "// You may obtain a copy of the License at\n",
              "//\n",
              "//      http://www.apache.org/licenses/LICENSE-2.0\n",
              "//\n",
              "// Unless required by applicable law or agreed to in writing, software\n",
              "// distributed under the License is distributed on an \"AS IS\" BASIS,\n",
              "// WITHOUT WARRANTIES OR CONDITIONS OF ANY KIND, either express or implied.\n",
              "// See the License for the specific language governing permissions and\n",
              "// limitations under the License.\n",
              "\n",
              "/**\n",
              " * @fileoverview Helpers for google.colab Python module.\n",
              " */\n",
              "(function(scope) {\n",
              "function span(text, styleAttributes = {}) {\n",
              "  const element = document.createElement('span');\n",
              "  element.textContent = text;\n",
              "  for (const key of Object.keys(styleAttributes)) {\n",
              "    element.style[key] = styleAttributes[key];\n",
              "  }\n",
              "  return element;\n",
              "}\n",
              "\n",
              "// Max number of bytes which will be uploaded at a time.\n",
              "const MAX_PAYLOAD_SIZE = 100 * 1024;\n",
              "\n",
              "function _uploadFiles(inputId, outputId) {\n",
              "  const steps = uploadFilesStep(inputId, outputId);\n",
              "  const outputElement = document.getElementById(outputId);\n",
              "  // Cache steps on the outputElement to make it available for the next call\n",
              "  // to uploadFilesContinue from Python.\n",
              "  outputElement.steps = steps;\n",
              "\n",
              "  return _uploadFilesContinue(outputId);\n",
              "}\n",
              "\n",
              "// This is roughly an async generator (not supported in the browser yet),\n",
              "// where there are multiple asynchronous steps and the Python side is going\n",
              "// to poll for completion of each step.\n",
              "// This uses a Promise to block the python side on completion of each step,\n",
              "// then passes the result of the previous step as the input to the next step.\n",
              "function _uploadFilesContinue(outputId) {\n",
              "  const outputElement = document.getElementById(outputId);\n",
              "  const steps = outputElement.steps;\n",
              "\n",
              "  const next = steps.next(outputElement.lastPromiseValue);\n",
              "  return Promise.resolve(next.value.promise).then((value) => {\n",
              "    // Cache the last promise value to make it available to the next\n",
              "    // step of the generator.\n",
              "    outputElement.lastPromiseValue = value;\n",
              "    return next.value.response;\n",
              "  });\n",
              "}\n",
              "\n",
              "/**\n",
              " * Generator function which is called between each async step of the upload\n",
              " * process.\n",
              " * @param {string} inputId Element ID of the input file picker element.\n",
              " * @param {string} outputId Element ID of the output display.\n",
              " * @return {!Iterable<!Object>} Iterable of next steps.\n",
              " */\n",
              "function* uploadFilesStep(inputId, outputId) {\n",
              "  const inputElement = document.getElementById(inputId);\n",
              "  inputElement.disabled = false;\n",
              "\n",
              "  const outputElement = document.getElementById(outputId);\n",
              "  outputElement.innerHTML = '';\n",
              "\n",
              "  const pickedPromise = new Promise((resolve) => {\n",
              "    inputElement.addEventListener('change', (e) => {\n",
              "      resolve(e.target.files);\n",
              "    });\n",
              "  });\n",
              "\n",
              "  const cancel = document.createElement('button');\n",
              "  inputElement.parentElement.appendChild(cancel);\n",
              "  cancel.textContent = 'Cancel upload';\n",
              "  const cancelPromise = new Promise((resolve) => {\n",
              "    cancel.onclick = () => {\n",
              "      resolve(null);\n",
              "    };\n",
              "  });\n",
              "\n",
              "  // Wait for the user to pick the files.\n",
              "  const files = yield {\n",
              "    promise: Promise.race([pickedPromise, cancelPromise]),\n",
              "    response: {\n",
              "      action: 'starting',\n",
              "    }\n",
              "  };\n",
              "\n",
              "  cancel.remove();\n",
              "\n",
              "  // Disable the input element since further picks are not allowed.\n",
              "  inputElement.disabled = true;\n",
              "\n",
              "  if (!files) {\n",
              "    return {\n",
              "      response: {\n",
              "        action: 'complete',\n",
              "      }\n",
              "    };\n",
              "  }\n",
              "\n",
              "  for (const file of files) {\n",
              "    const li = document.createElement('li');\n",
              "    li.append(span(file.name, {fontWeight: 'bold'}));\n",
              "    li.append(span(\n",
              "        `(${file.type || 'n/a'}) - ${file.size} bytes, ` +\n",
              "        `last modified: ${\n",
              "            file.lastModifiedDate ? file.lastModifiedDate.toLocaleDateString() :\n",
              "                                    'n/a'} - `));\n",
              "    const percent = span('0% done');\n",
              "    li.appendChild(percent);\n",
              "\n",
              "    outputElement.appendChild(li);\n",
              "\n",
              "    const fileDataPromise = new Promise((resolve) => {\n",
              "      const reader = new FileReader();\n",
              "      reader.onload = (e) => {\n",
              "        resolve(e.target.result);\n",
              "      };\n",
              "      reader.readAsArrayBuffer(file);\n",
              "    });\n",
              "    // Wait for the data to be ready.\n",
              "    let fileData = yield {\n",
              "      promise: fileDataPromise,\n",
              "      response: {\n",
              "        action: 'continue',\n",
              "      }\n",
              "    };\n",
              "\n",
              "    // Use a chunked sending to avoid message size limits. See b/62115660.\n",
              "    let position = 0;\n",
              "    do {\n",
              "      const length = Math.min(fileData.byteLength - position, MAX_PAYLOAD_SIZE);\n",
              "      const chunk = new Uint8Array(fileData, position, length);\n",
              "      position += length;\n",
              "\n",
              "      const base64 = btoa(String.fromCharCode.apply(null, chunk));\n",
              "      yield {\n",
              "        response: {\n",
              "          action: 'append',\n",
              "          file: file.name,\n",
              "          data: base64,\n",
              "        },\n",
              "      };\n",
              "\n",
              "      let percentDone = fileData.byteLength === 0 ?\n",
              "          100 :\n",
              "          Math.round((position / fileData.byteLength) * 100);\n",
              "      percent.textContent = `${percentDone}% done`;\n",
              "\n",
              "    } while (position < fileData.byteLength);\n",
              "  }\n",
              "\n",
              "  // All done.\n",
              "  yield {\n",
              "    response: {\n",
              "      action: 'complete',\n",
              "    }\n",
              "  };\n",
              "}\n",
              "\n",
              "scope.google = scope.google || {};\n",
              "scope.google.colab = scope.google.colab || {};\n",
              "scope.google.colab._files = {\n",
              "  _uploadFiles,\n",
              "  _uploadFilesContinue,\n",
              "};\n",
              "})(self);\n",
              "</script> "
            ]
          },
          "metadata": {}
        },
        {
          "output_type": "stream",
          "name": "stdout",
          "text": [
            "Saving games.csv to games.csv\n"
          ]
        }
      ]
    },
    {
      "cell_type": "code",
      "source": [
        "import pandas as pd\n",
        "teams_df = pd.read_csv('games.csv')\n",
        "print(teams_df.head())\n",
        "# List all columns\n",
        "print(teams_df.columns)"
      ],
      "metadata": {
        "colab": {
          "base_uri": "https://localhost:8080/"
        },
        "id": "T8Lfn7tnTefO",
        "outputId": "26c276be-16b8-4f34-c8f0-b22a96fe7341"
      },
      "execution_count": 12,
      "outputs": [
        {
          "output_type": "stream",
          "name": "stdout",
          "text": [
            "  GAME_DATE_EST   GAME_ID GAME_STATUS_TEXT  HOME_TEAM_ID  VISITOR_TEAM_ID  \\\n",
            "0    2022-12-22  22200477            Final    1610612740       1610612759   \n",
            "1    2022-12-22  22200478            Final    1610612762       1610612764   \n",
            "2    2022-12-21  22200466            Final    1610612739       1610612749   \n",
            "3    2022-12-21  22200467            Final    1610612755       1610612765   \n",
            "4    2022-12-21  22200468            Final    1610612737       1610612741   \n",
            "\n",
            "   SEASON  TEAM_ID_home  PTS_home  FG_PCT_home  FT_PCT_home  ...  AST_home  \\\n",
            "0    2022    1610612740     126.0        0.484        0.926  ...      25.0   \n",
            "1    2022    1610612762     120.0        0.488        0.952  ...      16.0   \n",
            "2    2022    1610612739     114.0        0.482        0.786  ...      22.0   \n",
            "3    2022    1610612755     113.0        0.441        0.909  ...      27.0   \n",
            "4    2022    1610612737     108.0        0.429        1.000  ...      22.0   \n",
            "\n",
            "   REB_home  TEAM_ID_away  PTS_away  FG_PCT_away  FT_PCT_away  FG3_PCT_away  \\\n",
            "0      46.0    1610612759     117.0        0.478        0.815         0.321   \n",
            "1      40.0    1610612764     112.0        0.561        0.765         0.333   \n",
            "2      37.0    1610612749     106.0        0.470        0.682         0.433   \n",
            "3      49.0    1610612765      93.0        0.392        0.735         0.261   \n",
            "4      47.0    1610612741     110.0        0.500        0.773         0.292   \n",
            "\n",
            "   AST_away  REB_away  HOME_TEAM_WINS  \n",
            "0      23.0      44.0               1  \n",
            "1      20.0      37.0               1  \n",
            "2      20.0      46.0               1  \n",
            "3      15.0      46.0               1  \n",
            "4      20.0      47.0               0  \n",
            "\n",
            "[5 rows x 21 columns]\n",
            "Index(['GAME_DATE_EST', 'GAME_ID', 'GAME_STATUS_TEXT', 'HOME_TEAM_ID',\n",
            "       'VISITOR_TEAM_ID', 'SEASON', 'TEAM_ID_home', 'PTS_home', 'FG_PCT_home',\n",
            "       'FT_PCT_home', 'FG3_PCT_home', 'AST_home', 'REB_home', 'TEAM_ID_away',\n",
            "       'PTS_away', 'FG_PCT_away', 'FT_PCT_away', 'FG3_PCT_away', 'AST_away',\n",
            "       'REB_away', 'HOME_TEAM_WINS'],\n",
            "      dtype='object')\n"
          ]
        }
      ]
    },
    {
      "cell_type": "markdown",
      "source": [
        "# **Stage 2**\n",
        "\n",
        "Justification for the property that you would like the model to predict."
      ],
      "metadata": {
        "id": "ZYY0zY7l60al"
      }
    },
    {
      "cell_type": "markdown",
      "source": [
        "## Input Variables (X)\n",
        "1. Historical Performance Metrics\n",
        "   - Previous seasons' win percentages\n",
        "   - Offensive/Defensive ratings\n",
        "   - Point differentials\n",
        "   - Home/Away performance\n",
        "\n",
        "2. Current Season Metrics\n",
        "   - Games played so far\n",
        "   - Current win percentage\n",
        "   - Recent performance (last 10 games)\n",
        "   - Point differentials\n",
        "\n",
        "### Output Target (Y)\n",
        "- Final season win total for each NBA team in 2024-2025 season\n",
        "- Measured as total wins by season end"
      ],
      "metadata": {
        "id": "1uuvFo7HbqTK"
      }
    },
    {
      "cell_type": "code",
      "source": [],
      "metadata": {
        "id": "xnK73v7R688t"
      },
      "execution_count": null,
      "outputs": []
    },
    {
      "cell_type": "markdown",
      "source": [
        "# **Stage 3**\n",
        "\n",
        "Cleaning the data, linking datasets etc..\n",
        "\n"
      ],
      "metadata": {
        "id": "OeanY09K69Le"
      }
    },
    {
      "cell_type": "code",
      "source": [],
      "metadata": {
        "id": "XMIxIidZhMGl"
      },
      "execution_count": null,
      "outputs": []
    },
    {
      "cell_type": "markdown",
      "source": [
        "# **Stage 4**\n",
        "Choose and train Estimator."
      ],
      "metadata": {
        "id": "QOZ3KnxR7QCs"
      }
    },
    {
      "cell_type": "code",
      "source": [],
      "metadata": {
        "id": "WxOtxpYLhM05"
      },
      "execution_count": null,
      "outputs": []
    },
    {
      "cell_type": "markdown",
      "source": [
        "# **Stage 5**\n",
        "Evaluate your model and revisit 4...repeat.."
      ],
      "metadata": {
        "id": "ZIz-Ez-sgsQe"
      }
    },
    {
      "cell_type": "code",
      "source": [],
      "metadata": {
        "id": "tUJT-BYqhNie"
      },
      "execution_count": null,
      "outputs": []
    },
    {
      "cell_type": "markdown",
      "source": [
        "# **Stage 6**\n",
        "***Present results and Conclusions***\n",
        "\n"
      ],
      "metadata": {
        "id": "4APZXYxS7Yef"
      }
    },
    {
      "cell_type": "markdown",
      "source": [],
      "metadata": {
        "id": "joNaHiMMhO6V"
      }
    }
  ],
  "metadata": {
    "interpreter": {
      "hash": "31f2aee4e71d21fbe5cf8b01ff0e069b9275f58929596ceb00d14d90e3e16cd6"
    },
    "kernelspec": {
      "display_name": "Python 3.6.9 64-bit",
      "language": "python",
      "name": "python3"
    },
    "language_info": {
      "codemirror_mode": {
        "name": "ipython",
        "version": 3
      },
      "file_extension": ".py",
      "mimetype": "text/x-python",
      "name": "python",
      "nbconvert_exporter": "python",
      "pygments_lexer": "ipython3",
      "version": "3.6.9"
    },
    "orig_nbformat": 4,
    "colab": {
      "provenance": [],
      "include_colab_link": true
    }
  },
  "nbformat": 4,
  "nbformat_minor": 0
}
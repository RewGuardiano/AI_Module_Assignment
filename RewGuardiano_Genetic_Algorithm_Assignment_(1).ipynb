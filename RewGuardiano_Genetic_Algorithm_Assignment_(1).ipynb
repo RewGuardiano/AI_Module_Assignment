{
  "nbformat": 4,
  "nbformat_minor": 0,
  "metadata": {
    "colab": {
      "provenance": [],
      "include_colab_link": true
    },
    "kernelspec": {
      "name": "python3",
      "display_name": "Python 3"
    },
    "language_info": {
      "name": "python"
    }
  },
  "cells": [
    {
      "cell_type": "markdown",
      "metadata": {
        "id": "view-in-github",
        "colab_type": "text"
      },
      "source": [
        "<a href=\"https://colab.research.google.com/github/RewGuardiano/AI_Module_Assignment/blob/main/RewGuardiano_Genetic_Algorithm_Assignment_(1).ipynb\" target=\"_parent\"><img src=\"https://colab.research.google.com/assets/colab-badge.svg\" alt=\"Open In Colab\"/></a>"
      ]
    },
    {
      "cell_type": "markdown",
      "source": [
        "# Genetic Algorithm Assignment\n",
        "30% of the overall grade for this module\n",
        "\n",
        "Marks indciated in sections below are based on percentage of marks allocated for this module\n",
        "\n",
        "In this assignment you must choose a problem, and attempt to use the Genetic Alogrithm that we developed in class to solve this problem.\n",
        "\n",
        "\n",
        "\n"
      ],
      "metadata": {
        "id": "UuU23he_msf6"
      }
    },
    {
      "cell_type": "markdown",
      "source": [
        "## The Problem         **(~30%)**\n",
        "\n",
        "*   Description of the problem\n",
        "\n",
        "\n",
        "\n"
      ],
      "metadata": {
        "id": "xOpdeYD9oLWi"
      }
    },
    {
      "cell_type": "markdown",
      "source": [
        "---\n",
        "# ** Sudoku Solver**\n",
        "\n",
        " This will generate valid Soduku solutions.\n",
        "\n",
        "---\n",
        "- Sudoku is a logical-based number placement puzzle.\n",
        "- It consists of 9x9 grid which is divided into 9 3x3 sub-grids like boxes.\n",
        "- The digits 1 through 9 should appear exactly once in each row.\n",
        "- The digits 1 through 9 should appear exactly once in each column.\n",
        "- Every 3x3 sub-grid has exactly one instance of each of the integers 1 through 9.\n",
        "\n",
        "**Completing the grid while keeping to the given constraints is the task, and certain numbers are pre-filled as clues.**\n",
        "\n",
        "\n",
        "---\n",
        "\n"
      ],
      "metadata": {
        "id": "4uQ4i7aopwP0"
      }
    },
    {
      "cell_type": "markdown",
      "source": [
        "*   Discussion of the suitablity of Genetic Algorithms\n"
      ],
      "metadata": {
        "id": "rWvzNi3uqCKy"
      }
    },
    {
      "cell_type": "markdown",
      "source": [
        "---\n",
        "# The Genetic Algorithm is ideal for solving Sudoku for following reasons:\n",
        "\n",
        "**Managing Constraints:**\n",
        "By creating a fitness function that provides adherence to rules, the genetic algorithm can be adjusted towards correct solutions.\n",
        "\n",
        "**Flexibility in Representation:** The grid,rows,columns and sub-grids make a clear represetation as a indiviual/chromosome in the GA. Applying genetic operators like crossover and mutation is hence straightforward.\n",
        "\n",
        "**Global Search Capability:** Since solving Sudoku requires satisfying several constraints (rows, columns, and sub-grids), GAs' ability to do a global search is significant.\n",
        "\n",
        "**As seen with the Cost Function**\n",
        " - Penalises when Soduku rules are violated e.g. duplicated numbers in rows and columns.\n",
        " - The perfect cost will be equal to 0. The cost will increase with the amount of constraints each individual violates.\n",
        "\n",
        "**Exploration through Population:** Unlike traditional backtracking techniques that investigate solutions one after the other, GAs investigate several possibilities simultaneously (through the population), increasing the possibility of discovering a workable solution.\n",
        "\n",
        "\n",
        "**The Benefit of Mutation and Crossover:** By expanding the pool of potential solutions, processes like mutation and crossover keep the algorithm from being trapped in one singe optimal solution.\n",
        "\n",
        "---\n",
        "\n"
      ],
      "metadata": {
        "id": "aMzEaqZAqmYT"
      }
    },
    {
      "cell_type": "code",
      "source": [
        "import numpy as np\n",
        "import random\n",
        "import matplotlib.pyplot as plt\n",
        "\n",
        "def generate_individual():\n",
        "  sudoku = np.zeros((9,9), dtype=int)  # Initialize empty grid\n",
        "  for i in range(9):\n",
        "    numbers = list(range(1,10))\n",
        "    random.shuffle(numbers)\n",
        "    sudoku[i]= numbers\n",
        "  return sudoku"
      ],
      "metadata": {
        "id": "jBFQAllYd25X"
      },
      "execution_count": 9,
      "outputs": []
    },
    {
      "cell_type": "markdown",
      "source": [
        "**Firstly, this function generates a random soduku grid. The code: **\n",
        "\n",
        "\n",
        "*   Creates a 9x9 grid filled with zeros\n",
        "*   for each row it creates a random numbers from 1-9\n",
        "*   For optimisation, It ensures that every row already meets the Sudoku requirement of having direct numbers of 1-9. Since the cost function will check duplicates from columns and subgrids.  \n",
        "*   Then returns the entire grid as a NumPy array\n",
        "\n",
        "\n",
        "\n",
        "\n",
        "\n"
      ],
      "metadata": {
        "id": "gj2-FMb3d7xe"
      }
    },
    {
      "cell_type": "markdown",
      "source": [
        "*   Complexity of the problem  (Overall marks allocated based on ..)"
      ],
      "metadata": {
        "id": "1c4zr525qHk0"
      }
    },
    {
      "cell_type": "markdown",
      "source": [
        "# The problem and the cost function   **(~20%)**"
      ],
      "metadata": {
        "id": "0LgfBTtdq11F"
      }
    },
    {
      "cell_type": "markdown",
      "source": [
        "The cost function will:\n",
        "\n",
        "*   Look for duplicates in the columns.\n",
        "*   Verify indiviual 3x3 grids from the whole Soduku grid.\n",
        "*   In both columns and each 3x3 grids, the more duplicates or violations results in higher cost function.\n",
        "\n",
        "*  Sum of all violations determines how good the cost function of a solution to a soduku board is. The cost of a perfect Soduku solution should be zero.\n",
        "\n",
        "\n",
        "\n",
        "\n",
        "\n",
        "\n"
      ],
      "metadata": {
        "id": "mOOJpshrfFSa"
      }
    },
    {
      "cell_type": "markdown",
      "source": [],
      "metadata": {
        "id": "_7BeLLENduFV"
      }
    },
    {
      "cell_type": "code",
      "source": [
        "class SudokuProblem:\n",
        "    def __init__(self):\n",
        "        self.grid_size = 9\n",
        "        self.subgrid_size = 3\n",
        "        self.min_value = 1\n",
        "        self.max_value = 9\n",
        "        self.cost_function = self.sudoku_cost\n",
        "        self.acceptable_cost = 0\n",
        "\n",
        "    def sudoku_cost(self, sudoku):\n",
        "        conflicts = 0\n",
        "        # Check columns\n",
        "        for col in range(9):\n",
        "            conflicts += 9 - len(np.unique(sudoku[:, col]))\n",
        "        # Check 3x3 subgrids\n",
        "        for i in range(0, 9, 3):\n",
        "            for j in range(0, 9, 3):\n",
        "                subgrid = sudoku[i:i+3, j:j+3].flatten()\n",
        "                conflicts += 9 - len(np.unique(subgrid))\n",
        "        return conflicts\n",
        "\n",
        "# Visualization function\n",
        "def visualize_sudoku(sudoku):\n",
        "    fig, ax = plt.subplots(figsize=(6, 6))\n",
        "    ax.set_aspect(\"equal\")\n",
        "    for i in range(10):\n",
        "        lw = 1 if i % 3 != 0 else 3\n",
        "        ax.plot([i, i], [0, 9], color=\"black\", linewidth=lw)\n",
        "        ax.plot([0, 9], [i, i], color=\"black\", linewidth=lw)\n",
        "    ax.set_xticks([])\n",
        "    ax.set_yticks([])\n",
        "    ax.set_xticklabels([])\n",
        "    ax.set_yticklabels([])\n",
        "    for i in range(9):\n",
        "        for j in range(9):\n",
        "            num = sudoku[i, j]\n",
        "            if num != 0:\n",
        "                ax.text(j + 0.5, 8.5 - i, str(num), ha='center', va='center',\n",
        "                        fontsize=16, fontweight='bold')\n",
        "    plt.xlim(0, 9)\n",
        "    plt.ylim(0, 9)\n",
        "    plt.show()\n",
        "\n",
        "# Test the cost function\n",
        "prob = SudokuProblem()\n",
        "test_grid = generate_individual()\n",
        "cost = prob.cost_function(test_grid)\n",
        "print(f\"Cost of random grid: {cost}\")\n",
        "visualize_sudoku(test_grid)"
      ],
      "metadata": {
        "colab": {
          "base_uri": "https://localhost:8080/",
          "height": 517
        },
        "id": "IpQoRTWlSILY",
        "outputId": "0ab0ac74-9a02-4411-9232-004d841268df"
      },
      "execution_count": 11,
      "outputs": [
        {
          "output_type": "stream",
          "name": "stdout",
          "text": [
            "Cost of random grid: 56\n"
          ]
        },
        {
          "output_type": "display_data",
          "data": {
            "text/plain": [
              "<Figure size 600x600 with 1 Axes>"
            ],
            "image/png": "[encoded data removed]"
          },
          "metadata": {}
        }
      ]
    },
    {
      "cell_type": "markdown",
      "source": [
        "**The cost function assesses a Sudoku grid's adheres with the rules**\n",
        "\n",
        "The code above:\n",
        "\n",
        "1. **SudokuProblem Class**:\n",
        "   - Defines problem parameters and the cost function.\n",
        "2. **Cost Function (`sudoku_cost`)**:\n",
        "   - Columns: For each of the 9 columns, calculates duplicates as `9 - unique values`.\n",
        "   - Sub-grids: For each of the 9 sub-grids, flattens the 3x3 section and counts duplicates similarly.\n",
        "   - Total cost is the sum of all conflicts.\n",
        "3. **Visualization**:\n",
        "   - Plots the grid with thicker lines for 3x3 boundaries and numbers centered in cells.\n",
        "4. **Test**:\n",
        "   - Generates a random grid and computes its cost, typically high due to column and sub-grid violations.\n",
        "\n",
        "\n",
        "\n",
        "\n",
        "\n",
        "\n",
        "\n",
        "\n",
        "\n",
        "\n",
        "\n",
        "\n"
      ],
      "metadata": {
        "id": "MO84C5Meb_Hb"
      }
    },
    {
      "cell_type": "markdown",
      "source": [
        "# The Individual **(~30%)**\n",
        "\n",
        "\n",
        "*   Chromosone\n",
        "*   Crossover\n",
        "*   Mutation\n",
        "\n"
      ],
      "metadata": {
        "id": "wBQQjO4brWFA"
      }
    },
    {
      "cell_type": "markdown",
      "source": [
        "## Discussion and justification on the approaches taken for the above"
      ],
      "metadata": {
        "id": "-Yr5xlW3rx21"
      }
    },
    {
      "cell_type": "markdown",
      "source": [
        "---\n",
        "\n",
        "\n",
        "**Individual**\n",
        " - Each individual represents one possible Sudoku solution.\n",
        " - The solution is encoded in a chromosome as a 9x9 grid.\n",
        "\n",
        "**Chromosome**\n",
        "- A 9x9 NumPy array where each cell contains a number from 1 to 9.\n",
        "- Initialised with 'generate_individual()', which ensures that each row is a permutation of 1-9, simplifying the optimisation work.\n",
        "\n",
        "**Crossover**:\n",
        "- combines two parents using a method influenced by Partially Matched Crossover (PMX).\n",
        "- Chooses two crossover locations and switches segments between parents for a random selection of rows (with a 50% chance each row).\n",
        "(-) Duplicates outside the swapped segment are resolved via a mapping dictionary, maintaining row permutations.\n",
        "Child1 may begin as [9, 3, 7, 8, 2, 4, 5, 6, 7], and mapping (e.g., 2→7, 1→8) corrects duplication to preserve 1-9 uniqueness if Parent1 row = [9, 3, 2, 1, 8, 4, 5, 6, 7] and Parent2 row = [6, 1, 7, 8, 2, 9, 5, 3, 4], with points 2-4.\n",
        "Justification: PMX mixes parental features while guaranteeing row validity, which is essential for Sudoku.\n",
        "\n",
        "\n",
        "**Mutation**:\n",
        "- Randomly swaps two numbers within the same row (10% chance per row).\n",
        "- Example: [4, 5, 2, 7, 3, 9, 1, 6, 8] → [4, 7, 2, 5, 3, 9, 1, 6, 8] (swaps positions 1 and 3).\n",
        "- Justification: Preserves row uniqueness while altering column and sub-grid arrangements, introducing diversity assessed by the cost function.\n",
        "---\n",
        "\n",
        "\n",
        "\n"
      ],
      "metadata": {
        "id": "-5eIa-LKsREQ"
      }
    },
    {
      "cell_type": "code",
      "source": [
        "from copy import deepcopy\n",
        "\n",
        "class SudokuIndividual:\n",
        "    def __init__(self, prob):\n",
        "        self.chromosome = generate_individual()\n",
        "        self.cost = prob.cost_function(self.chromosome)\n",
        "\n",
        "    def mutate(self, mutation_rate=0.1):\n",
        "        for row in range(9):\n",
        "            if random.random() < mutation_rate:\n",
        "                i, j = random.sample(range(9), 2)\n",
        "                self.chromosome[row, i], self.chromosome[row, j] = self.chromosome[row, j], self.chromosome[row, i]\n",
        "        self.cost = prob.cost_function(self.chromosome)\n",
        "#PMX Crossover\n",
        "    def crossover(self, parent2, prob):\n",
        "        child1 = deepcopy(self)\n",
        "        child2 = deepcopy(parent2)\n",
        "        for row in range(9):\n",
        "            if random.random() < 0.5:\n",
        "                p1_row = self.chromosome[row]\n",
        "                p2_row = parent2.chromosome[row]\n",
        "                point1, point2 = sorted(random.sample(range(9), 2))\n",
        "                mapping1 = dict(zip(p2_row[point1:point2], p1_row[point1:point2]))\n",
        "                mapping2 = dict(zip(p1_row[point1:point2], p2_row[point1:point2]))\n",
        "                c1_row = p1_row.copy()\n",
        "                c2_row = p2_row.copy()\n",
        "                c1_row[point1:point2] = p2_row[point1:point2]\n",
        "                c2_row[point1:point2] = p1_row[point1:point2]\n",
        "                for i in range(9):\n",
        "                    if i < point1 or i >= point2:\n",
        "                        while c1_row[i] in c1_row[point1:point2]:\n",
        "                            c1_row[i] = mapping1.get(c1_row[i], c1_row[i])\n",
        "                        while c2_row[i] in c2_row[point1:point2]:\n",
        "                            c2_row[i] = mapping2.get(c2_row[i], c2_row[i])\n",
        "                child1.chromosome[row] = c1_row\n",
        "                child2.chromosome[row] = c2_row\n",
        "        child1.cost = prob.cost_function(child1.chromosome)\n",
        "        child2.cost = prob.cost_function(child2.chromosome)\n",
        "        return child1, child2"
      ],
      "metadata": {
        "id": "5Tjqk2GjU7JJ"
      },
      "execution_count": 12,
      "outputs": []
    },
    {
      "cell_type": "markdown",
      "source": [
        "**Explanation of class SudokuIndividual:**:\n",
        "A chromosome is created and its first cost is calculated using the - **`__init__`** function.\n",
        "- **`mutate`**: Updates the cost by switching two consecutive places with a 10% chance.\n",
        "- **`crossover`**: Permutation preservation is ensured by implementing PMX per row (50% chance)."
      ],
      "metadata": {
        "id": "GnDW_mZRVbGv"
      }
    },
    {
      "cell_type": "markdown",
      "source": [
        "## Running the algorithm  **(~10%)**\n",
        "\n",
        "*   Parameter choices\n",
        "*   Modifications (if any) to run_genetic\n",
        "*   Rationale for the above\n",
        "\n"
      ],
      "metadata": {
        "id": "59WmNNhiscZ9"
      }
    },
    {
      "cell_type": "markdown",
      "source": [
        "---\n",
        "\n",
        "(Double click then ...)  Type Here...\n",
        "\n",
        "---\n",
        "\n"
      ],
      "metadata": {
        "id": "n8BK_jFwub_j"
      }
    },
    {
      "cell_type": "code",
      "source": [
        "#  Parameter class here"
      ],
      "metadata": {
        "id": "qYE-UMBos_nR"
      },
      "execution_count": null,
      "outputs": []
    },
    {
      "cell_type": "code",
      "source": [
        "# Run Genetic method here"
      ],
      "metadata": {
        "id": "uMURavCWtEan"
      },
      "execution_count": null,
      "outputs": []
    },
    {
      "cell_type": "code",
      "source": [
        "#  Running of the algorithm with outputs here"
      ],
      "metadata": {
        "id": "lzt2-_8HtJtr"
      },
      "execution_count": null,
      "outputs": []
    },
    {
      "cell_type": "code",
      "source": [
        "#  If changes to params or reruns of iterations dont overwrite, create more cells and copy code down to show evolution of final solution"
      ],
      "metadata": {
        "id": "KUrAxEdDtTmf"
      },
      "execution_count": null,
      "outputs": []
    },
    {
      "cell_type": "markdown",
      "source": [
        "## Results and conclusions    **(~10%)**"
      ],
      "metadata": {
        "id": "Hupr4W2_tmZA"
      }
    },
    {
      "cell_type": "markdown",
      "source": [
        "---\n",
        "\n",
        "(Double click then ...)  Type Here...\n",
        "\n",
        "---\n",
        "\n"
      ],
      "metadata": {
        "id": "p0Yqo3GeuVtn"
      }
    }
  ]
}
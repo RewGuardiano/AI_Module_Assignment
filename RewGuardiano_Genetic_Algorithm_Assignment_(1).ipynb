{
  "nbformat": 4,
  "nbformat_minor": 0,
  "metadata": {
    "colab": {
      "provenance": [],
      "include_colab_link": true
    },
    "kernelspec": {
      "name": "python3",
      "display_name": "Python 3"
    },
    "language_info": {
      "name": "python"
    }
  },
  "cells": [
    {
      "cell_type": "markdown",
      "metadata": {
        "id": "view-in-github",
        "colab_type": "text"
      },
      "source": [
        "<a href=\"https://colab.research.google.com/github/RewGuardiano/AI_Module_Assignment/blob/main/RewGuardiano_Genetic_Algorithm_Assignment_(1).ipynb\" target=\"_parent\"><img src=\"https://colab.research.google.com/assets/colab-badge.svg\" alt=\"Open In Colab\"/></a>"
      ]
    },
    {
      "cell_type": "markdown",
      "source": [
        "# Genetic Algorithm Assignment\n",
        "30% of the overall grade for this module\n",
        "\n",
        "Marks indciated in sections below are based on percentage of marks allocated for this module\n",
        "\n",
        "In this assignment you must choose a problem, and attempt to use the Genetic Alogrithm that we developed in class to solve this problem.\n",
        "\n",
        "\n",
        "\n"
      ],
      "metadata": {
        "id": "UuU23he_msf6"
      }
    },
    {
      "cell_type": "markdown",
      "source": [
        "## The Problem         **(~30%)**\n",
        "\n",
        "*   Description of the problem\n",
        "\n",
        "\n",
        "\n"
      ],
      "metadata": {
        "id": "xOpdeYD9oLWi"
      }
    },
    {
      "cell_type": "markdown",
      "source": [
        "---\n",
        "# ** Sudoku Solver**\n",
        "\n",
        " This will generate valid Soduku solutions.\n",
        "\n",
        "---\n",
        "- Sudoku is a logical-based number placement puzzle.\n",
        "- It consists of 9x9 grid which is divided into 9 3x3 sub-grids like boxes.\n",
        "- The digits 1 through 9 should appear exactly once in each row.\n",
        "- The digits 1 through 9 should appear exactly once in each column.\n",
        "- Every 3x3 sub-grid has exactly one instance of each of the integers 1 through 9.\n",
        "\n",
        "**Completing the grid while keeping to the given constraints is the task, and certain numbers are pre-filled as clues.**\n",
        "\n",
        "\n",
        "---\n",
        "\n"
      ],
      "metadata": {
        "id": "4uQ4i7aopwP0"
      }
    },
    {
      "cell_type": "markdown",
      "source": [
        "*   Discussion of the suitablity of Genetic Algorithms\n"
      ],
      "metadata": {
        "id": "rWvzNi3uqCKy"
      }
    },
    {
      "cell_type": "markdown",
      "source": [
        "---\n",
        "# The Genetic Algorithm is ideal for solving Sudoku for following reasons:\n",
        "\n",
        "**Managing Constraints:**\n",
        "By creating a fitness function that provides adherence to rules, the genetic algorithm can be adjusted towards correct solutions.\n",
        "\n",
        "**Flexibility in Representation:** The grid,rows,columns and sub-grids make a clear represetation as a indiviual/chromosome in the GA. Applying genetic operators like crossover and mutation is hence straightforward.\n",
        "\n",
        "**Global Search Capability:** Since solving Sudoku requires satisfying several constraints (rows, columns, and sub-grids), GAs' ability to do a global search is significant.\n",
        "\n",
        "**As seen with the Cost Function**\n",
        " - Penalises when Soduku rules are violated e.g. duplicated numbers in rows and columns.\n",
        " - The perfect cost will be equal to 0. The cost will increase with the amount of constraints each individual violates.\n",
        "\n",
        "**Exploration through Population:** Unlike traditional backtracking techniques that investigate solutions one after the other, GAs investigate several possibilities simultaneously (through the population), increasing the possibility of discovering a workable solution.\n",
        "\n",
        "\n",
        "**The Benefit of Mutation and Crossover:** By expanding the pool of potential solutions, processes like mutation and crossover keep the algorithm from being trapped in one singe optimal solution.\n",
        "\n",
        "---\n",
        "\n"
      ],
      "metadata": {
        "id": "aMzEaqZAqmYT"
      }
    },
    {
      "cell_type": "code",
      "source": [
        "import numpy as np\n",
        "import random\n",
        "import matplotlib.pyplot as plt\n",
        "\n",
        "def generate_indiviual():\n",
        "  sudoku = np.zeros((9,9), dtype=int)  # Initialize empty grid\n",
        "  for i in range(9):\n",
        "    numbers = list(range(1,10))\n",
        "    random.shuffle(numbers)\n",
        "    sudoku[i]= numbers\n",
        "  return sudoku"
      ],
      "metadata": {
        "id": "jBFQAllYd25X"
      },
      "execution_count": null,
      "outputs": []
    },
    {
      "cell_type": "markdown",
      "source": [
        "**Firstly, this function generates a random soduku grid. The code: **\n",
        "\n",
        "\n",
        "*   Creates a 9x9 grid filled with zeros\n",
        "*   for each row it creates a random numbers from 1-9\n",
        "*   For optimisation, It ensures that every row already meets the Sudoku requirement of having direct numbers of 1-9. Since the cost function will check duplicates from columns and subgrids.  \n",
        "*   Then returns the entire grid as a NumPy array\n",
        "\n",
        "\n",
        "\n",
        "\n",
        "\n"
      ],
      "metadata": {
        "id": "gj2-FMb3d7xe"
      }
    },
    {
      "cell_type": "markdown",
      "source": [
        "*   Complexity of the problem  (Overall marks allocated based on ..)"
      ],
      "metadata": {
        "id": "1c4zr525qHk0"
      }
    },
    {
      "cell_type": "markdown",
      "source": [
        "# The problem and the cost function   **(~20%)**"
      ],
      "metadata": {
        "id": "0LgfBTtdq11F"
      }
    },
    {
      "cell_type": "markdown",
      "source": [
        "The cost function will:\n",
        "\n",
        "*   Look for duplicates in the columns.\n",
        "*   Verify indiviual 3x3 grids from the whole Soduku grid.\n",
        "*   In both columns and each 3x3 grids, the more duplicates or violations results in higher cost function.\n",
        "\n",
        "*  Sum of all violations determines how good the cost function of a solution to a soduku board is. The cost of a perfect Soduku solution should be zero.\n",
        "\n",
        "\n",
        "\n",
        "\n",
        "\n",
        "\n"
      ],
      "metadata": {
        "id": "mOOJpshrfFSa"
      }
    },
    {
      "cell_type": "markdown",
      "source": [],
      "metadata": {
        "id": "_7BeLLENduFV"
      }
    },
    {
      "cell_type": "code",
      "source": [
        "def visualize_sudoku(sudoku):\n",
        "    fig, ax = plt.subplots(figsize=(6, 6))\n",
        "    ax.set_aspect(\"equal\")\n",
        "\n",
        "    # Draw minor grid lines (thin cell borders)\n",
        "    for i in range(10):\n",
        "        lw = 1 if i % 3 != 0 else 3  # Thicker lines for 3x3 sub-grid\n",
        "        ax.plot([i, i], [0, 9], color=\"black\", linewidth=lw)  # Draws Vertical lines\n",
        "        ax.plot([0, 9], [i, i], color=\"black\", linewidth=lw)  # Draws Horizontal lines\n",
        "\n",
        "    # Hide axis ticks\n",
        "    ax.set_xticks([])\n",
        "    ax.set_yticks([])\n",
        "    ax.set_xticklabels([])\n",
        "    ax.set_yticklabels([])\n",
        "\n",
        "    # Fill in the numbers\n",
        "    for i in range(9):\n",
        "        for j in range(9):\n",
        "            num = sudoku[i, j]\n",
        "            if num != 0:\n",
        "                ax.text(j + 0.5, 8.5 - i, str(num), ha='center', va='center',\n",
        "                        fontsize=16, fontweight='bold')\n",
        "\n",
        "    plt.xlim(0, 9)\n",
        "    plt.ylim(0, 9)\n",
        "    plt.show()\n",
        "\n",
        "def check_cost(sudoku):\n",
        "  #lists\n",
        "    column_duplicates = []\n",
        "    subgrid_duplicates = []\n",
        "\n",
        "    # Check columns\n",
        "    column_cost = 0\n",
        "    for col in range(9):\n",
        "      #dictionary to keep track of numbers already encountered\n",
        "        seen = {}\n",
        "        for row in range(9):\n",
        "            num = sudoku[row, col]\n",
        "            if num in seen:\n",
        "                column_duplicates.append((row, col))\n",
        "                column_cost += 1\n",
        "            else:\n",
        "                seen[num] = (row, col) #else stores its indices coordinates if not a duplicate\n",
        "\n",
        "    # Check 3x3 subgrids\n",
        "    subgrid_cost = 0\n",
        "    for box_row in range(3):\n",
        "        for box_col in range(3):\n",
        "            seen = {}\n",
        "            #inner for loops iterate through the cells inside the subgrids\n",
        "            for i in range(3):\n",
        "                for j in range(3):\n",
        "                    row = box_row * 3 + i\n",
        "                    col = box_col * 3 + j\n",
        "                    num = sudoku[row, col]\n",
        "                    if num in seen:\n",
        "                        subgrid_duplicates.append((row, col))\n",
        "                        subgrid_cost += 1\n",
        "                    else:\n",
        "                        seen[num] = (row, col)\n",
        "\n",
        "    total_cost = column_cost + subgrid_cost\n",
        "    return total_cost, column_duplicates, subgrid_duplicates\n",
        "\n",
        "# Generate a random Sudoku grid\n",
        "sudoku_grid = generate_indiviual()\n",
        "\n",
        "# Visualize the Sudoku grid\n",
        "visualize_sudoku(sudoku_grid)\n",
        "\n",
        "#calculating cost\n",
        "cost, column_duplicates, subgrid_duplicates = check_cost(sudoku_grid)\n",
        "# Print results\n",
        "print(\"Total cost:\", cost)\n",
        "if cost == 0:\n",
        "    print(\"The Sudoku grid is perfect!\")\n",
        "else:\n",
        "    print(\"Column duplicate indices:\", column_duplicates)\n",
        "    print(\"Subgrid duplicate indices:\", subgrid_duplicates)"
      ],
      "metadata": {
        "id": "6RVOxFxZphoR"
      },
      "execution_count": null,
      "outputs": []
    },
    {
      "cell_type": "markdown",
      "source": [
        "**The cost function assesses a Sudoku grid's adheres with the rules**\n",
        "\n",
        "The code above:\n",
        "\n",
        "\n",
        "1.   **Check constraints in the columns in the Grid**\n",
        "\n",
        "*   Iterates through each of the 9 columns in\n",
        "*   Uses a dictonary (seen variable) to keep track of the numbers seen\n",
        "\n",
        "*   When a duplicate is discovered in the same column, the cost is increasesd in the column_cost variable.\n",
        "*   The column_duplicates variable then keeps tracks of duplicates indices.\n",
        "*   The column cost variable increases by one if a duplicate is found\n",
        "\n",
        "\n",
        "\n",
        "\n",
        "2. **Checking constraints of the subgrids in the grid**\n",
        "\n",
        "\n",
        "     for box_row in range(3):\n",
        "        for box_col in range(3):\n",
        "            seen = {}\n",
        "            #inner for loops iterate through the cells inside the subgrids\n",
        "            for i in range(3):\n",
        "                for j in range(3):\n",
        "*   Iterates through each of the nine 3x3 subgrids\n",
        "*   Nested for loop goes over each indiviual subgrids rows and columns to check for duplicates.\n",
        "*   subgrid_cost variable increments with every duplicate.\n",
        "* Indices of duplicates are also recorded in a subgrid_duplicates variable.\n",
        "\n",
        "3. **Total Cost Calculation**\n",
        "\n",
        "* Addition of column_cost and subgrid_cost to get the total_cost\n",
        "* A complete soduku grid is indicated if the costs function is zero.\n",
        "*  Total cost is printed out showing all the duplicates.\n",
        "\n",
        "\n",
        "\n",
        "\n",
        "\n",
        "\n",
        "\n",
        "\n",
        "\n",
        "\n",
        "\n",
        "\n",
        "\n",
        "\n",
        "\n"
      ],
      "metadata": {
        "id": "MO84C5Meb_Hb"
      }
    },
    {
      "cell_type": "markdown",
      "source": [
        "# The Individual **(~30%)**\n",
        "\n",
        "\n",
        "*   Chromosone\n",
        "*   Crossover\n",
        "*   Mutation\n",
        "\n"
      ],
      "metadata": {
        "id": "wBQQjO4brWFA"
      }
    },
    {
      "cell_type": "markdown",
      "source": [
        "## Discussion and justification on the approaches taken for the above"
      ],
      "metadata": {
        "id": "-Yr5xlW3rx21"
      }
    },
    {
      "cell_type": "markdown",
      "source": [
        "---\n",
        "\n",
        "\n",
        "**Individual**\n",
        " - Each individual represents one possible Sudoku solution.\n",
        " - The solution is encoded in a chromosome, often a 9x9 grid.\n",
        "\n",
        "**Chromosome**\n",
        "- an individual's chromosome is represented as a 9x9 NumPy array, with a number between 1 and 9 in each cell\n",
        "- This chromosome is initialized with the generate_individual() method, which fills each row with a random combination of 1 through 9:\n",
        "\n",
        "**Crossover & Mutation**\n",
        "- Crossover: Combines two parent solutions to produce new offspring.\n",
        "\n",
        " - The crossover uses the partial mapped crossover logic, modified to work with subsets of rows.\n",
        " - It uses a mapping to maintain row uniqueness, the supplied crossover function chooses two to four random rows and, within each, switches a portion of cells between parents. The implementation is as follows:\n",
        " - **Using a mapping dictionary**, this PMX-inspired crossover resolves duplicates outside of the swapped segment after switching segments (such as columns 2–5) between parents row-wise. For instance, offspring1 may initially take [2, 1, 8] from parent2 if parent1's row 3 is [9, 3, 2, 1, 8, 4, 5, 6, 7] and parent2's is [6, 1, 7, 8, 2, 9, 5, 3, 4], with crossover points 2 and 4. To ensure that the row stays a permutation of 1–9, the mapping (e.g., 2→7, 1→8, 8→2) then modifies the remaining locations to remove duplicates.\n",
        "\n",
        "- Mutation: Mutation introduces random variations to maintain population diversity and ensures validity.\n",
        "  - In the Sudoku genetic algorithm, mutation swaps two numbers within the same row of the grid, preserving the row’s uniqueness.\n",
        "  - For example, switching positions 1 and 3 (5 and 7) in a row [4, 5, 2, 7, 3, 9, 1, 6, 8] yields [4, 7, 2, 5, 3, 9, 1, 6, 8]. While changing the column and subgrid configurations, which the cost function assesses, this maintains the row's validity.\n",
        "\n",
        "\n",
        "---\n",
        "\n"
      ],
      "metadata": {
        "id": "-5eIa-LKsREQ"
      }
    },
    {
      "cell_type": "code",
      "source": [
        "def crossover_function(parent1,parent2):\n",
        "\n",
        "    offspring1 = parent1.copy()\n",
        "    offspring2 = parent2.copy()\n",
        "\n",
        "    # Select a subset of rows to crossover\n",
        "    num_rows = random.randint(2, 4)\n",
        "    crossover_rows = random.sample(range(9), num_rows)\n",
        "\n",
        "    for row in crossover_rows:\n",
        "        # Generate two crossover points\n",
        "        cx_point1, cx_point2 = sorted(random.sample(range(9), 2))\n",
        "\n",
        "        # Create mapping between parents for this segment\n",
        "        mapping = {}\n",
        "        for i in range(cx_point1, cx_point2 + 1):\n",
        "            mapping[parent1[row, i]] = parent2[row, i]\n",
        "            mapping[parent2[row, i]] = parent1[row, i]\n",
        "\n",
        "        # Apply segment from second parent to first offspring\n",
        "        offspring1[row, cx_point1:cx_point2+1] = parent2[row, cx_point1:cx_point2+1]\n",
        "\n",
        "        # Apply segment from first parent to second offspring\n",
        "        offspring2[row, cx_point1:cx_point2+1] = parent1[row, cx_point1:cx_point2+1]\n",
        "\n",
        "        # Fix the remaining elements in the row to ensure 1-9 appear exactly once\n",
        "        for i in range(9):\n",
        "            if i < cx_point1 or i > cx_point2:\n",
        "\n",
        "                while offspring1[row, i] in offspring1[row, cx_point1:cx_point2+1]:\n",
        "                    offspring1[row, i] = mapping.get(offspring1[row, i], offspring1[row, i])\n",
        "\n",
        "\n",
        "                while offspring2[row, i] in offspring2[row, cx_point1:cx_point2+1]:\n",
        "                    offspring2[row, i] = mapping.get(offspring2[row, i], offspring2[row, i])\n",
        "\n",
        "    # Randomly select one of the two offspring to return\n",
        "    return offspring1 if random.random() < 0.5 else offspring2"
      ],
      "metadata": {
        "id": "eFFNRit43-x7"
      },
      "execution_count": 1,
      "outputs": []
    },
    {
      "cell_type": "code",
      "source": [
        "def mutation_function(sudoku, fixed_positions, mutation_rate=0.1):\n",
        "\n",
        "    mutated_sudoku = sudoku.copy()\n",
        "\n",
        "    for row in range(9):\n",
        "        if random.random() < mutation_rate:\n",
        "\n",
        "            swap_index1, swap_index2 = random.sample([i for i in range(9) if not fixed_positions[row, i]], 2)\n",
        "\n",
        "            mutated_sudoku[row, swap_index1], mutated_sudoku[row, swap_index2] = \\\n",
        "            mutated_sudoku[row, swap_index2], mutated_sudoku[row, swap_index1]\n",
        "\n",
        "    return mutated_sudoku\n"
      ],
      "metadata": {
        "id": "5q0SbnmXplYB"
      },
      "execution_count": 2,
      "outputs": []
    },
    {
      "cell_type": "markdown",
      "source": [
        "## Running the algorithm  **(~10%)**\n",
        "\n",
        "*   Parameter choices\n",
        "*   Modifications (if any) to run_genetic\n",
        "*   Rationale for the above\n",
        "\n"
      ],
      "metadata": {
        "id": "59WmNNhiscZ9"
      }
    },
    {
      "cell_type": "markdown",
      "source": [
        "---\n",
        "\n",
        "(Double click then ...)  Type Here...\n",
        "\n",
        "---\n",
        "\n"
      ],
      "metadata": {
        "id": "n8BK_jFwub_j"
      }
    },
    {
      "cell_type": "code",
      "source": [
        "#  Parameter class here"
      ],
      "metadata": {
        "id": "qYE-UMBos_nR"
      },
      "execution_count": null,
      "outputs": []
    },
    {
      "cell_type": "code",
      "source": [
        "# Run Genetic method here"
      ],
      "metadata": {
        "id": "uMURavCWtEan"
      },
      "execution_count": null,
      "outputs": []
    },
    {
      "cell_type": "code",
      "source": [
        "#  Running of the algorithm with outputs here"
      ],
      "metadata": {
        "id": "lzt2-_8HtJtr"
      },
      "execution_count": null,
      "outputs": []
    },
    {
      "cell_type": "code",
      "source": [
        "#  If changes to params or reruns of iterations dont overwrite, create more cells and copy code down to show evolution of final solution"
      ],
      "metadata": {
        "id": "KUrAxEdDtTmf"
      },
      "execution_count": null,
      "outputs": []
    },
    {
      "cell_type": "markdown",
      "source": [
        "## Results and conclusions    **(~10%)**"
      ],
      "metadata": {
        "id": "Hupr4W2_tmZA"
      }
    },
    {
      "cell_type": "markdown",
      "source": [
        "---\n",
        "\n",
        "(Double click then ...)  Type Here...\n",
        "\n",
        "---\n",
        "\n"
      ],
      "metadata": {
        "id": "p0Yqo3GeuVtn"
      }
    }
  ]
}